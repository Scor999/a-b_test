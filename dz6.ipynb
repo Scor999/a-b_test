{
 "cells": [
  {
   "cell_type": "code",
   "execution_count": 35,
   "id": "70aef007",
   "metadata": {},
   "outputs": [],
   "source": [
    "# импорт необходимых библиотек\n",
    "import scipy.stats as stats\n",
    "from scipy.stats import norm, t\n",
    "import numpy as np\n",
    "import math\n"
   ]
  },
  {
   "attachments": {},
   "cell_type": "markdown",
   "id": "05ace352",
   "metadata": {},
   "source": [
    "### Практическое задание 1\n",
    "* Продакт на главной mail.ru решил протестировать в рекомендательной ленте контента вместо карточек со статьями видеоплеер с короткими видео. Нынешний таймспент на юзера в день в среднем равен 25 минут, а стандартная ошибка (SD) равна 15. Мы предполагаем, что в новой версии таймспент на юзера в день изменится на 10% от текущего значения. Средний трафик  20000 человек в день. Посчитайте сколько дней необходимо держать эксперимент при alpha = 5% и beta = 20%.\n"
   ]
  },
  {
   "cell_type": "code",
   "execution_count": 36,
   "id": "c7f1598e",
   "metadata": {},
   "outputs": [],
   "source": [
    "n = 20000  # среднее количество юзеров в день\n",
    "sd = 156  # стандартная ошибка\n",
    "alpha = 0.05  # уровень значимости\n",
    "beta = 0.2  # вероятность ошибки второго рода\n",
    "prop_diff = 0.1  # относительное изменение таймспента"
   ]
  },
  {
   "cell_type": "code",
   "execution_count": 37,
   "id": "bbfe1a76",
   "metadata": {},
   "outputs": [],
   "source": [
    "se = sd / np.sqrt(n)  # стандартная ошибка среднего\n",
    "m = se * norm.ppf(1 - alpha/2)  # граница для доверительного интервала\n",
    "delta = prop_diff * n  # абсолютное изменение таймспента"
   ]
  },
  {
   "cell_type": "code",
   "execution_count": 38,
   "id": "08509f8a",
   "metadata": {},
   "outputs": [],
   "source": [
    "z_alpha = norm.ppf(1 - alpha)  \n",
    "z_beta = norm.ppf(1 - beta) "
   ]
  },
  {
   "cell_type": "code",
   "execution_count": 39,
   "id": "d2222e2a",
   "metadata": {},
   "outputs": [
    {
     "name": "stdout",
     "output_type": "stream",
     "text": [
      "Необходимо собрать данные в течении 1 дней.\n"
     ]
    }
   ],
   "source": [
    "n_1 = (z_alpha*m + z_beta*sd/delta)**2\n",
    "n_2 = (z_alpha*m - z_beta*sd/delta)**2\n",
    "n_round = np.ceil(max(n_1, n_2))\n",
    "days = np.ceil(n_round/n)  # количество дней\n",
    "print(f\"Необходимо собрать данные в течении {int(days)} дней.\")\n"
   ]
  },
  {
   "attachments": {},
   "cell_type": "markdown",
   "id": "d8f06fcf",
   "metadata": {},
   "source": [
    "### Практическое задание 2\n",
    "* Наша продуктовая команда в ecommerce магазине планирует запустить тест, направленный на ускорение загрузки сайта. Одна из основных метрик bounce rate в GA = 40%. Мы предполагаем, что при оптимизации сайта изменится минимум на 20% от текущего показателя.Средний трафик  4000 человек в день. Посчитайте сколько нам нужно дней держать эксперимент при alpha = 5% и beta = 20%"
   ]
  },
  {
   "cell_type": "code",
   "execution_count": 40,
   "id": "0acd5387",
   "metadata": {},
   "outputs": [],
   "source": [
    "def sample_size(mean1, mean2, alpha, beta, power, baseline):\n",
    "    std1 = math.sqrt(baseline * (1 - baseline))\n",
    "    z_alpha = stats.norm.ppf(1 - alpha / 2)\n",
    "    z_beta = stats.norm.ppf(power)\n",
    "    std2 = std1 * math.sqrt((baseline - mean2) ** 2 / (mean1 - mean2) ** 2)\n",
    "    return ((std1 * z_alpha + std2 * z_beta) / (mean1 - mean2)) ** 2"
   ]
  },
  {
   "cell_type": "code",
   "execution_count": 41,
   "id": "92db6f68",
   "metadata": {},
   "outputs": [],
   "source": [
    "mean1=0.4\n",
    "mean2=-0.2\n",
    "power=0.8\n",
    "baseline=0.4"
   ]
  },
  {
   "cell_type": "code",
   "execution_count": 55,
   "id": "816d9f08",
   "metadata": {},
   "outputs": [
    {
     "name": "stdout",
     "output_type": "stream",
     "text": [
      "Необходимо держать эксперимент при alpha = 0.05% и beta = 0.2% в течении 5 дней.\n"
     ]
    }
   ],
   "source": [
    "d=round(sample_size(mean1=mean1, mean2=mean2, alpha=0.05, beta=0.2, power=power, baseline=baseline))\n",
    "print(f\"Необходимо держать эксперимент при alpha = {alpha}% и beta = {beta}% в течении {int(d)} дней.\")\n"
   ]
  }
 ],
 "metadata": {
  "kernelspec": {
   "display_name": "Python 3 (ipykernel)",
   "language": "python",
   "name": "python3"
  },
  "language_info": {
   "codemirror_mode": {
    "name": "ipython",
    "version": 3
   },
   "file_extension": ".py",
   "mimetype": "text/x-python",
   "name": "python",
   "nbconvert_exporter": "python",
   "pygments_lexer": "ipython3",
   "version": "3.10.7"
  }
 },
 "nbformat": 4,
 "nbformat_minor": 5
}
